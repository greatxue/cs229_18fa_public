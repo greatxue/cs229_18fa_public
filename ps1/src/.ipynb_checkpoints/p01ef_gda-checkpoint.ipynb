{
 "cells": [
  {
   "cell_type": "code",
   "execution_count": 3,
   "id": "9f63f830",
   "metadata": {},
   "outputs": [],
   "source": [
    "import matplotlib.pyplot as plt\n",
    "import numpy as np\n",
    "import util\n",
    "\n",
    "from linear_model import LinearModel"
   ]
  },
  {
   "cell_type": "code",
   "execution_count": 4,
   "id": "749dd1a7",
   "metadata": {},
   "outputs": [],
   "source": [
    "ds1_training_set_path = '../data/ds1_train.csv'\n",
    "ds1_valid_set_path = '../data/ds1_valid.csv'\n",
    "ds2_training_set_path = '../data/ds2_train.csv'\n",
    "ds2_valid_set_path = '../data/ds2_valid.csv'"
   ]
  },
  {
   "cell_type": "code",
   "execution_count": 5,
   "id": "f1a3e74a",
   "metadata": {},
   "outputs": [],
   "source": [
    "x_train, y_train = util.load_dataset(ds1_training_set_path, add_intercept=False)\n",
    "x_valid, y_valid = util.load_dataset(ds1_valid_set_path, add_intercept=False)"
   ]
  },
  {
   "cell_type": "code",
   "execution_count": 6,
   "id": "5416ca0d",
   "metadata": {},
   "outputs": [],
   "source": [
    "class GDA(LinearModel):\n",
    "    \"\"\"Gaussian Discriminant Analysis.\n",
    "\n",
    "    Example usage:\n",
    "        > clf = GDA()\n",
    "        > clf.fit(x_train, y_train)\n",
    "        > clf.predict(x_eval)\n",
    "    \"\"\"\n",
    "\n",
    "    def fit(self, x, y):\n",
    "        \"\"\"Fit a GDA model to training set given by x and y.\n",
    "\n",
    "        Args:\n",
    "            x: Training example inputs. Shape (m, n).\n",
    "            y: Training example labels. Shape (m,).\n",
    "\n",
    "        Returns:\n",
    "            theta: GDA model parameters.\n",
    "        \"\"\"\n",
    "        # *** START CODE HERE ***\n",
    "        m, n = x.shape\n",
    "        phi = np.sum(y) / m\n",
    "        mu_0 = np.dot(x.T, 1 - y) / np.sum(1 - y) # shape (n,)\n",
    "        mu_1 = np.dot(x.T, y) / np.sum(y) # shape (n,)\n",
    "        \n",
    "        # Reshape y as a 2D ndarray for broadcast operations\n",
    "        y_shaped = np.reshape(y, (m, -1)) # shape (m, 1)\n",
    "        \n",
    "        # Matrix comprises mu_0 and mu_1 based on the value of y. \n",
    "        mu_x = y_reshaped * mu_1 + (1 - y_reshaped) * mu_0\n",
    "        x_centered = x - mu_x\n",
    "        sigma = 1 / m * np.dot(x_centered.T, x_centered) \n",
    "        sigma_inv = np.linalg.inv(sigma)\n",
    "        \n",
    "        # Compute theta and theta_0 according to part (c)\n",
    "        theta = np.dot(sigma_inv, mu_1 - mu_0) # shape (n,)\n",
    "        theta_0 = 1 / 2 * mu_0 @ sigma_inv @ mu_0 \\\n",
    "                    - 1 / 2 * mu_1 @ sigma_inv @ mu_1- np.log((1 - phi) / phi)\n",
    "        \n",
    "        # Insert theta_0 into the front of the entire theta vector\n",
    "        self.theta = np.insert(theta, 0, theta_0)\n",
    "        # *** END CODE HERE ***\n",
    "\n",
    "    def predict(self, x):\n",
    "        \"\"\"Make a prediction given new inputs x.\n",
    "\n",
    "        Args:\n",
    "            x: Inputs of shape (m, n).\n",
    "\n",
    "        Returns:\n",
    "            Outputs of shape (m,).\n",
    "        \"\"\"\n",
    "        # *** START CODE HERE ***\n",
    "        # Add x_0 = 1 convention to make predictions using theta^T x >= 0\n",
    "        return util.add_intercept(x) @ self.theta >= 0\n",
    "        # *** END CODE HERE"
   ]
  },
  {
   "cell_type": "markdown",
   "id": "69e2071a",
   "metadata": {},
   "source": [
    "Rewrite the `plot` function in the benchmark to allow for a seond decision boundary:"
   ]
  },
  {
   "cell_type": "code",
   "execution_count": null,
   "id": "4881f65b",
   "metadata": {},
   "outputs": [],
   "source": [
    "def plot(x, y, theta_1, legand_1=None, \n",
    "               theta_2=None, legand_2=None, title = None, correction=1.0):\n",
    "    plt.figure()\n",
    "    plt.plot(x[y == 1, -2], x[y == 1, -1], 'bx')\n",
    "    plt.plot(x[y == 0, -2], x[y == 0, -1], 'go')\n",
    "    \n",
    "    x1 = "
   ]
  }
 ],
 "metadata": {
  "kernelspec": {
   "display_name": "Python 3 (ipykernel)",
   "language": "python",
   "name": "python3"
  },
  "language_info": {
   "codemirror_mode": {
    "name": "ipython",
    "version": 3
   },
   "file_extension": ".py",
   "mimetype": "text/x-python",
   "name": "python",
   "nbconvert_exporter": "python",
   "pygments_lexer": "ipython3",
   "version": "3.11.0"
  }
 },
 "nbformat": 4,
 "nbformat_minor": 5
}
