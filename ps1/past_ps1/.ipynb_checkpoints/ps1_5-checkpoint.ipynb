{
 "cells": [
  {
   "cell_type": "markdown",
   "id": "e46e640a",
   "metadata": {},
   "source": [
    "# PS1-5. Locally weighted linear regression"
   ]
  },
  {
   "cell_type": "markdown",
   "id": "a3029176",
   "metadata": {},
   "source": [
    "### (a)"
   ]
  },
  {
   "cell_type": "markdown",
   "id": "93b11959",
   "metadata": {},
   "source": [
    "#### i. \n",
    "Recall the cost function\n",
    "\n",
    "\\begin{align*}\n",
    "J(\\theta) \n",
    "    & = \\frac{1}{2} \\sum_{i = 1}^{m} w^{(i)} ( \\theta^T x^{(i)} - y^{(i)} )^2 \\\\\n",
    "    & = (X \\theta - y)^T W (X \\theta - y)\n",
    "\\end{align*}\n",
    "\n",
    "As $X \\in \\mathbb{R}^{m \\times n}$, $y \\in \\mathbb{R}^{m}$ and there are only $m$ $w^{(i)}$ and there are no intersection of residuals\n",
    "$$W = \\frac{1}{2} \\mathrm{diag} (w^{(i)}, \\dots , w^{(m)})$$"
   ]
  },
  {
   "cell_type": "markdown",
   "id": "a559fc60",
   "metadata": {},
   "source": [
    "#### ii. \n",
    "Recall the loss function $J(\\theta) = \\frac{1}{2} (X \\theta - y)^T W (X \\theta - y)$. To minimize $J(\\theta)$, we have\n",
    "\n",
    "\\begin{align*}\n",
    "\\nabla_\\theta J(\\theta) \n",
    "    & = \\nabla_\\theta \\left(\\frac{1}{2}(X \\theta - y)^T W (X \\theta - y) \\right) \\\\\n",
    "    & = \\frac{1}{2} \\nabla_\\theta (\\theta^T X^T W X \\theta - 2 y^T W X \\theta + y^T W y) \\\\\n",
    "    & = \\frac{1}{2} \\nabla_\\theta \\left( \\theta^T (X^T W X) \\theta \n",
    "            - 2 (X^T W^T y)^T \\theta \\right) \\\\\n",
    "    & = \\frac{1}{2} (2 X^T W X \\theta - 2 X^T W^T y) \\\\\n",
    "    & = X^T W X \\theta - X^T W^T y \\\\\n",
    "    & = X^T W X \\theta - X^T W y \\\\\n",
    "    & = 0\n",
    "\\end{align*}\n",
    "\n",
    "By solving the equation, we obtain:\n",
    "$$\\theta = (X^T W X)^{-1} X^T W y$$"
   ]
  },
  {
   "cell_type": "markdown",
   "id": "26dcf3c2",
   "metadata": {},
   "source": [
    "#### iii. \n",
    "We find the log-likelihood to be\n",
    "\\begin{align*}\n",
    "\\ell (\\theta) \n",
    "& = \\sum_{i = 1}^{m} \\log \\left( \\frac{1}{\\sqrt{2 \\pi} \\sigma^{(i)}} \n",
    "    \\exp ( - \\frac{(y^{(i)} - \\theta^T x^{(i)})^2}{2 (\\sigma^{(i)})^2} ) \\right) \\\\\n",
    "& = - \\sum_{i = 1}^{m} \\log \\sqrt{2 \\pi} \\sigma^{(i)} \n",
    "    - \\sum_{i = 1}^{m} \\frac{(y^{(i)} - \\theta^T x^{(i)})^2}{2 (\\sigma^{(i)})^2} \\\\\n",
    "\\end{align*}\n",
    "\n",
    "Thus, maximizing $\\ell (\\theta)$ is equivalent to minimizing\n",
    "\n",
    "$$\\frac{1}{2} \\sum_{i = 1}^{m} \\frac{1}{(\\sigma^{(i)})^2} (\\theta^T x^{(i)} - y^{(i)})^2$$\n",
    "\n",
    "By setting $w^{(i)} = \\frac{1}{ (\\sigma^{(i)})^2}$, finding the maximum likelihood estimate of $\\theta$ reduces to minimizing $J(\\theta)$."
   ]
  },
  {
   "cell_type": "markdown",
   "id": "5b9f085b",
   "metadata": {},
   "source": [
    "#### (b)"
   ]
  },
  {
   "cell_type": "code",
   "execution_count": 2,
   "id": "e17be97a",
   "metadata": {},
   "outputs": [],
   "source": [
    "import math\n",
    "import matplotlib.pyplot as plt\n",
    "import numpy as np\n",
    "import src.util as util\n",
    "\n",
    "from src.linear_model import LinearModel"
   ]
  },
  {
   "cell_type": "code",
   "execution_count": 3,
   "id": "212132d2",
   "metadata": {},
   "outputs": [],
   "source": [
    "x_train, y_train = util.load_dataset('data/ds5_train.csv', add_intercept=True)\n",
    "x_valid, y_valid = util.load_dataset('data/ds5_valid.csv', add_intercept=True)\n",
    "x_test, y_test = util.load_dataset('data/ds5_test.csv', add_intercept=True)"
   ]
  },
  {
   "cell_type": "markdown",
   "id": "f9836ef9",
   "metadata": {},
   "source": [
    "Have a look at the whole training set:"
   ]
  },
  {
   "cell_type": "code",
   "execution_count": 9,
   "id": "c4e37ff5",
   "metadata": {},
   "outputs": [
    {
     "data": {
      "image/png": "[encoded data removed]",
      "text/plain": [
       "<Figure size 640x480 with 1 Axes>"
      ]
     },
     "metadata": {},
     "output_type": "display_data"
    }
   ],
   "source": [
    "plt.xlabel('x_1')\n",
    "plt.ylabel('y')\n",
    "plt.plot(x_train[:,-1], y_train, 'bx', linewidth=2) # x_train[:,-2] as the intercept\n",
    "plt.show()"
   ]
  },
  {
   "cell_type": "markdown",
   "id": "364b5c94",
   "metadata": {},
   "source": [
    "Then we implement the weighted linear regression:"
   ]
  },
  {
   "cell_type": "code",
   "execution_count": 10,
   "id": "b305914b",
   "metadata": {},
   "outputs": [],
   "source": [
    "class LocallyWeightedLinearRegression(LinearModel):\n",
    "    \"\"\"Locally Weighted Regression (LWR).\n",
    "\n",
    "    Example usage:\n",
    "        > clf = LocallyWeightedLinearRegression(tau)\n",
    "        \n",
    "        > clf.fit(x_train, y_train)\n",
    "        \n",
    "        > clf.predict(x_eval)\n",
    "    \"\"\"\n",
    "\n",
    "    def __init__(self, tau):\n",
    "        super(LocallyWeightedLinearRegression, self).__init__()\n",
    "        self.tau = tau\n",
    "        self.x = None\n",
    "        self.y = None\n",
    "\n",
    "    def fit(self, x, y):\n",
    "        \"\"\"Fit LWR by saving the training set.\n",
    "        \"\"\"\n",
    "        self.x = x\n",
    "        self.y = y\n",
    "\n",
    "    def predict(self, x):\n",
    "        \"\"\"Make predictions given inputs x.\n",
    "\n",
    "        Args:\n",
    "            x: Inputs of shape (m, n).\n",
    "\n",
    "        Returns:\n",
    "            Outputs of shape (m,).\n",
    "        \"\"\"\n",
    "        # *** START CODE HERE ***\n",
    "        # *** END CODE HERE ***"
   ]
  }
 ],
 "metadata": {
  "kernelspec": {
   "display_name": "Python 3 (ipykernel)",
   "language": "python",
   "name": "python3"
  },
  "language_info": {
   "codemirror_mode": {
    "name": "ipython",
    "version": 3
   },
   "file_extension": ".py",
   "mimetype": "text/x-python",
   "name": "python",
   "nbconvert_exporter": "python",
   "pygments_lexer": "ipython3",
   "version": "3.11.0"
  }
 },
 "nbformat": 4,
 "nbformat_minor": 5
}
