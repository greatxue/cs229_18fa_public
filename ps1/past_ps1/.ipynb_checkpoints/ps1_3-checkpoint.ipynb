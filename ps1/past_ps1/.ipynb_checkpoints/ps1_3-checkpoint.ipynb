{
 "cells": [
  {
   "cell_type": "markdown",
   "id": "00b1a1ad",
   "metadata": {},
   "source": [
    "# PS1-3. Poisson Regression"
   ]
  },
  {
   "cell_type": "markdown",
   "id": "ed30f64f",
   "metadata": {},
   "source": [
    "#### (a)"
   ]
  },
  {
   "cell_type": "markdown",
   "id": "d077da73",
   "metadata": {},
   "source": [
    "We could dervive that\n",
    "\\begin{align*}\n",
    "p(y; \\lambda) & = \\frac{e^{- \\lambda} \\lambda^y}{y !} \\\\\n",
    "                & = \\frac{1}{y !} \\exp (y \\log \\lambda - \\lambda) \\\\\n",
    "                & = b(y) \\exp(\\eta^T T(y) - a(\\eta))\n",
    "\\end{align*}\n",
    "\n",
    "where $b(y) = \\frac{1}{y  !}$, $T(y) = y$, $\\eta = \\log \\lambda$ and $a(\\eta) = \\exp(\\eta)$."
   ]
  },
  {
   "cell_type": "markdown",
   "id": "4862b4a2",
   "metadata": {},
   "source": [
    "#### (b)"
   ]
  },
  {
   "cell_type": "markdown",
   "id": "4748dca9",
   "metadata": {},
   "source": [
    "We have the canonical response function for the family\n",
    "$$\\mathbb{E}[T(y);\\eta] = \\mathbb{E}[y;\\eta] =\\lambda$$\n",
    "which is \n",
    "$$\\mathbb{E}[T(y);\\eta] = \\exp(\\eta)$$"
   ]
  },
  {
   "cell_type": "markdown",
   "id": "e4a99e92",
   "metadata": {},
   "source": [
    "#### (c)"
   ]
  },
  {
   "cell_type": "markdown",
   "id": "45e8ae4f",
   "metadata": {},
   "source": [
    "Recall the design choices of GLM:\n",
    "\n",
    "+ $y \\vert x; \\theta \\sim \\mathrm{ExponentialFamily} (\\eta)$\n",
    "\n",
    "+ $h(x) = \\mathbb{E} [y \\vert x]$\n",
    "\n",
    "+ $\\eta = \\theta^T x$"
   ]
  },
  {
   "cell_type": "markdown",
   "id": "306a2ec2",
   "metadata": {},
   "source": [
    "Consider the log-likelihood:\n",
    "\\begin{align*}\n",
    "\\ell (\\theta) & = \\log p(y^{(i)} \\vert x^{(i)}; \\ \\theta) \\\\\n",
    "              & = \\log \\left( b(y^{(i)}) \\exp (\\eta^T T(y^{(i)}) - a(\\eta)) \\right)\\\\\n",
    "              & = \\log (\\frac{1}{y^{(i)}!}) + y^{(i)} \\log(\\lambda) - \\lambda\n",
    "\\end{align*}"
   ]
  },
  {
   "cell_type": "markdown",
   "id": "c8910efe",
   "metadata": {},
   "source": [
    "Recall that\n",
    "$$h(x) = \\mathbb{E} [y \\vert x] = \\lambda = \\exp(\\eta)$$\n",
    "where $\\eta = \\theta^T x$\n",
    "\n",
    "Hence, we could derive\n",
    "$$\\ell (\\theta) = \\log (\\frac{1}{y^{(i)}!}) + y^{(i)} (\\theta^T x^{(i)}) - \\exp(\\theta^T x^{(i)})$$"
   ]
  },
  {
   "cell_type": "markdown",
   "id": "e3006bd1",
   "metadata": {},
   "source": [
    "Take the derivative w.r.t. $\\theta$,\n",
    "\\begin{align*}\n",
    "\\frac{\\partial}{\\partial \\theta} \\ell(\\theta) \n",
    "    &= x^{(i)} y^{(i)}  - x^{(i)}\\exp(\\theta^T x^{(i)}) \\\\\n",
    "    &= \\left( y^{(i)} - h_{\\theta}(x^{(i)}) \\right) x^{(i)}\n",
    "\\end{align*}\n",
    "\n",
    "The stochastic gradient ascent update rule is:\n",
    "$$\\theta := \\theta + \\alpha \\left( y^{(i)} - h_\\theta (x^{(i)}) \\right) x^{(i)}$$"
   ]
  },
  {
   "cell_type": "markdown",
   "id": "16548cea",
   "metadata": {},
   "source": [
    "#### (d)"
   ]
  },
  {
   "cell_type": "code",
   "execution_count": 1,
   "id": "2e7f21b3",
   "metadata": {},
   "outputs": [],
   "source": [
    "import matplotlib.pyplot as plt\n",
    "import numpy as np\n",
    "import src.util as util\n",
    "\n",
    "from src.linear_model import LinearModel"
   ]
  },
  {
   "cell_type": "code",
   "execution_count": 2,
   "id": "69b6883d",
   "metadata": {},
   "outputs": [],
   "source": [
    "x_train, y_train = util.load_dataset('data/ds4_train.csv', add_intercept=True)\n",
    "x_valid, y_valid = util.load_dataset('data/ds4_valid.csv', add_intercept=True)"
   ]
  },
  {
   "cell_type": "markdown",
   "id": "7aaf8fc4",
   "metadata": {},
   "source": [
    "Then we begin to implement the poisson regression with stochastic gradient descent:"
   ]
  },
  {
   "cell_type": "code",
   "execution_count": null,
   "id": "a86e48fd",
   "metadata": {},
   "outputs": [],
   "source": [
    "class PoissonRegression(LinearModel):\n",
    "    \"\"\"Poisson Regression.\n",
    "\n",
    "    Example usage:\n",
    "        > clf = PoissonRegression(step_size=lr)\n",
    "        \n",
    "        > clf.fit(x_train, y_train)\n",
    "        \n",
    "        > clf.predict(x_eval)\n",
    "    \"\"\"\n",
    "    \n",
    "    def h(self, x, theta):\n",
    "        return np.exp(x @ theta) #(m, n) * (n,)\n",
    "   \n",
    "    def fit(self, x, y):\n",
    "        \"\"\"Run gradient ascent to maximize likelihood for Poisson regression.\n",
    "\n",
    "        Args:\n",
    "            x: Training example inputs. Shape (m, n).\n",
    "            y: Training example labels. Shape (m,).\n",
    "        \"\"\"\n",
    "        def delta_theta(theta):\n",
    "            return self.step_size / m * np.dot(x.T, y - self.h(x, theta)) #(n, m) * (m,)\n",
    "        \n",
    "        m, n = x.shape;\n",
    "        \n",
    "        # Initialize theta\n",
    "        if self.theta is None:\n",
    "            theta = np.zeros(n);\n",
    "        else:\n",
    "            theta = self.theta\n",
    "        \n",
    "        # Update theta\n",
    "        while True:\n",
    "            delta_theta = delta_theta(theta)\n",
    "            if np.linalg.norm(new_theta - self.theta, 1) < self.eps: \n",
    "                break\n",
    "            theta += delta_theta\n",
    "        self.theta = theta\n",
    "\n",
    "    def predict(self, x):\n",
    "        \"\"\"Make a prediction given inputs x.\n",
    "\n",
    "        Args:\n",
    "            x: Inputs of shape (m, n).\n",
    "\n",
    "        Returns:\n",
    "            Floating-point prediction for each input, shape (m,).\n",
    "        \"\"\"\n",
    "        return self.h(self.theta, x)"
   ]
  }
 ],
 "metadata": {
  "kernelspec": {
   "display_name": "Python 3 (ipykernel)",
   "language": "python",
   "name": "python3"
  },
  "language_info": {
   "codemirror_mode": {
    "name": "ipython",
    "version": 3
   },
   "file_extension": ".py",
   "mimetype": "text/x-python",
   "name": "python",
   "nbconvert_exporter": "python",
   "pygments_lexer": "ipython3",
   "version": "3.11.0"
  }
 },
 "nbformat": 4,
 "nbformat_minor": 5
}
