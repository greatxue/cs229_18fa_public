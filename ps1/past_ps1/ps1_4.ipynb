{
 "cells": [
  {
   "cell_type": "markdown",
   "id": "3cd3d27d",
   "metadata": {},
   "source": [
    "# PS1-4. Convexity of Generalized Linear Models"
   ]
  },
  {
   "cell_type": "markdown",
   "id": "736bc3f6",
   "metadata": {},
   "source": [
    "#### (a)"
   ]
  },
  {
   "cell_type": "markdown",
   "id": "ef3dce76",
   "metadata": {},
   "source": [
    "Take the partial w.r.t. $\\eta$,\n",
    "\\begin{align*}\n",
    "\\frac{\\partial}{\\partial \\eta} p(y;  \\eta) \n",
    "& = \\frac{\\partial}{\\partial \\eta} [ b(y) \\exp (\\eta y - a(\\eta)) ] \\\\\n",
    "& = b(y) \\exp (\\eta y - a(\\eta)) \\left(y - \\frac{\\partial}{\\partial \\eta} a(\\eta)\\right) \\\\\n",
    "& = y \\ p(y; \\eta) - p(y; \\eta) \\frac{\\partial}{\\partial \\eta} a(\\eta)\n",
    "\\end{align*}"
   ]
  },
  {
   "cell_type": "markdown",
   "id": "bb8c4fa3",
   "metadata": {},
   "source": [
    "Hence we have\n",
    "\\begin{align*}\n",
    "\\mathbb{E} [ \\ Y; \\ \\eta \\ ] & = \\mathbb{E} [ \\ Y \\vert X; \\eta ] \\\\\n",
    "                             & = \\int y \\ p(y; \\eta) \\ dy \\\\\n",
    "                             & = \\int \\frac{\\partial}{\\partial \\eta} p(y; \\eta) + p(y; \\eta) \\frac{\\partial}{\\partial \\eta} a(\\eta) \\ dy \\\\\n",
    "                             & = \\int \\frac{\\partial}{\\partial \\eta} p(y; \\eta) \\ dy + \\int p(y; \\ \\eta) \\frac{\\partial}{\\partial \\eta} a(\\eta) \\ dy \\\\\n",
    "                             & = \\frac{\\partial}{\\partial \\eta} \\int p(y; \\ \\eta) \\ dy + \\frac{\\partial}{\\partial \\eta} a(\\eta) \\int p(y; \\ \\eta) \\ dy \\\\\n",
    "                             & = \\frac{\\partial}{\\partial \\eta} \\cdot 1 + \\frac{\\partial}{\\partial \\eta} a(\\eta) \\cdot 1 \\\\\n",
    "                             & = 0 + \\frac{\\partial}{\\partial \\eta} a(\\eta) \\\\\n",
    "                             & = \\frac{\\partial}{\\partial \\eta} a(\\eta)\n",
    "\\end{align*}\n",
    "\n",
    "It indicates that the mean of an exponential family distribution is the first derivative of the log-partition function w.r.t. the natural parameter."
   ]
  },
  {
   "cell_type": "markdown",
   "id": "47ca2d5e",
   "metadata": {},
   "source": [
    "#### (b)"
   ]
  },
  {
   "cell_type": "markdown",
   "id": "3d979f92",
   "metadata": {},
   "source": [
    "Proof:\n",
    "\n",
    "\\begin{align*}\n",
    "\\mathrm{Var} [ \\ Y; \\eta] \n",
    "&= \\int (y - \\mathbb{E} [ \\ Y; \\eta])^2 p(y; \\eta) dy \\\\\n",
    "& = \\int \\left(y - \\frac{\\partial}{\\partial \\eta} a(\\eta) \\right)^2 p(y; \\eta)dy \\\\\n",
    "                               & = \\int \\frac{\\partial^2}{\\partial \\eta^2} p(y; \\ \\eta) - p(y; \\ \\eta) + p(y; \\ \\eta) \\frac{\\partial^2}{\\partial \\eta^2} a(\\eta) \\ dy \\\\\n",
    "                               & = \\int \\frac{\\partial^2}{\\partial \\eta^2} p(y; \\ \\eta) \\ dy - \\int p(y; \\ \\eta) \\ dy + \\int p(y; \\ \\eta) \\frac{\\partial^2}{\\partial \\eta^2} a(\\eta) \\ dy \\\\\n",
    "                               & = \\frac{\\partial^2}{\\partial \\eta^2} \\int p(y; \\ \\eta) \\ dy - \\int p(y; \\ \\eta) \\ dy + \\frac{\\partial^2}{\\partial \\eta^2} a(\\eta) \\int p(y; \\ \\eta) \\ dy \\\\\n",
    "                               & = 1 -1 + \\frac{\\partial^2}{\\partial \\eta^2} a(\\eta) \\\\\n",
    "                               & = \\frac{\\partial^2}{\\partial \\eta^2} a(\\eta)\n",
    "\\end{align*}\n",
    "\n",
    "which implies:\n",
    "\n",
    "$$\\big( y - \\frac{\\partial}{\\partial \\eta} a(\\eta) \\big)^2 p(y; \\ \\eta) = \\frac{\\partial^2}{\\partial \\eta^2} p(y; \\ \\eta) - p(y; \\ \\eta) + p(y; \\ \\eta) \\frac{\\partial^2}{\\partial \\eta^2} a(\\eta)$$\n",
    "\n",
    "Hence,\n",
    "\n",
    "\\begin{align*}\n",
    "\\mathrm{Var} [ \\ Y; \\ \\eta \\ ] & = \\int (y - \\mathbb{E} [ \\ Y; \\ \\eta \\ ])^2 p(y; \\ \\eta) \\ dy \\\\\n",
    "                               & = \\int \\big( y - \\frac{\\partial}{\\partial \\eta} a(\\eta) \\big)^2 p(y; \\ \\eta) \\ dy \\\\\n",
    "                               & = \\int \\frac{\\partial^2}{\\partial \\eta^2} p(y; \\ \\eta) - p(y; \\ \\eta) + p(y; \\ \\eta) \\frac{\\partial^2}{\\partial \\eta^2} a(\\eta) \\ dy \\\\\n",
    "                               & = \\int \\frac{\\partial^2}{\\partial \\eta^2} p(y; \\ \\eta) \\ dy - \\int p(y; \\ \\eta) \\ dy + \\int p(y; \\ \\eta) \\frac{\\partial^2}{\\partial \\eta^2} a(\\eta) \\ dy \\\\\n",
    "                               & = \\frac{\\partial^2}{\\partial \\eta^2} \\int p(y; \\ \\eta) \\ dy - \\int p(y; \\ \\eta) \\ dy + \\frac{\\partial^2}{\\partial \\eta^2} a(\\eta) \\int p(y; \\ \\eta) \\ dy \\\\\n",
    "                               & = 1 -1 + \\frac{\\partial^2}{\\partial \\eta^2} a(\\eta) \\\\\n",
    "                               & = \\frac{\\partial^2}{\\partial \\eta^2} a(\\eta)\n",
    "\\end{align*}\n",
    "\n",
    "i.e. The variance of an exponential family distribution is the second derivative of the log-partition function w.r.t. the natural parameter."
   ]
  }
 ],
 "metadata": {
  "kernelspec": {
   "display_name": "Python 3 (ipykernel)",
   "language": "python",
   "name": "python3"
  },
  "language_info": {
   "codemirror_mode": {
    "name": "ipython",
    "version": 3
   },
   "file_extension": ".py",
   "mimetype": "text/x-python",
   "name": "python",
   "nbconvert_exporter": "python",
   "pygments_lexer": "ipython3",
   "version": "3.11.0"
  }
 },
 "nbformat": 4,
 "nbformat_minor": 5
}
